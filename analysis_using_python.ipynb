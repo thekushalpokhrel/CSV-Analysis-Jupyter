{
 "cells": [
  {
   "cell_type": "code",
   "execution_count": 2,
   "metadata": {},
   "outputs": [],
   "source": [
    "import pandas as pd\n",
    "import numpy as np\n",
    "import matplotlib.pyplot as plt"
   ]
  },
  {
   "cell_type": "code",
   "execution_count": 3,
   "metadata": {},
   "outputs": [],
   "source": [
    "df = pd.read_csv('C:/Users/user/Downloads/Effects-of-COVID-19-on-trade-1-February-25-November-2020-provisional.csv')"
   ]
  },
  {
   "cell_type": "code",
   "execution_count": 4,
   "metadata": {},
   "outputs": [
    {
     "data": {
      "text/html": [
       "<div>\n",
       "<style scoped>\n",
       "    .dataframe tbody tr th:only-of-type {\n",
       "        vertical-align: middle;\n",
       "    }\n",
       "\n",
       "    .dataframe tbody tr th {\n",
       "        vertical-align: top;\n",
       "    }\n",
       "\n",
       "    .dataframe thead th {\n",
       "        text-align: right;\n",
       "    }\n",
       "</style>\n",
       "<table border=\"1\" class=\"dataframe\">\n",
       "  <thead>\n",
       "    <tr style=\"text-align: right;\">\n",
       "      <th></th>\n",
       "      <th>Direction</th>\n",
       "      <th>Year</th>\n",
       "      <th>Date</th>\n",
       "      <th>Weekday</th>\n",
       "      <th>Current_Match</th>\n",
       "      <th>Country</th>\n",
       "      <th>Commodity</th>\n",
       "      <th>Transport_Mode</th>\n",
       "      <th>Measure</th>\n",
       "      <th>Value</th>\n",
       "      <th>Cumulative</th>\n",
       "    </tr>\n",
       "  </thead>\n",
       "  <tbody>\n",
       "    <tr>\n",
       "      <th>0</th>\n",
       "      <td>Exports</td>\n",
       "      <td>2015</td>\n",
       "      <td>31/01/2015</td>\n",
       "      <td>Saturday</td>\n",
       "      <td>01/02/2020</td>\n",
       "      <td>All</td>\n",
       "      <td>All</td>\n",
       "      <td>All</td>\n",
       "      <td>$</td>\n",
       "      <td>257000000</td>\n",
       "      <td>257000000</td>\n",
       "    </tr>\n",
       "    <tr>\n",
       "      <th>1</th>\n",
       "      <td>Exports</td>\n",
       "      <td>2015</td>\n",
       "      <td>01/02/2015</td>\n",
       "      <td>Sunday</td>\n",
       "      <td>02/02/2020</td>\n",
       "      <td>All</td>\n",
       "      <td>All</td>\n",
       "      <td>All</td>\n",
       "      <td>$</td>\n",
       "      <td>123000000</td>\n",
       "      <td>380000000</td>\n",
       "    </tr>\n",
       "    <tr>\n",
       "      <th>2</th>\n",
       "      <td>Exports</td>\n",
       "      <td>2015</td>\n",
       "      <td>02/02/2015</td>\n",
       "      <td>Monday</td>\n",
       "      <td>03/02/2020</td>\n",
       "      <td>All</td>\n",
       "      <td>All</td>\n",
       "      <td>All</td>\n",
       "      <td>$</td>\n",
       "      <td>176000000</td>\n",
       "      <td>556000000</td>\n",
       "    </tr>\n",
       "    <tr>\n",
       "      <th>3</th>\n",
       "      <td>Exports</td>\n",
       "      <td>2015</td>\n",
       "      <td>03/02/2015</td>\n",
       "      <td>Tuesday</td>\n",
       "      <td>04/02/2020</td>\n",
       "      <td>All</td>\n",
       "      <td>All</td>\n",
       "      <td>All</td>\n",
       "      <td>$</td>\n",
       "      <td>115000000</td>\n",
       "      <td>671000000</td>\n",
       "    </tr>\n",
       "    <tr>\n",
       "      <th>4</th>\n",
       "      <td>Exports</td>\n",
       "      <td>2015</td>\n",
       "      <td>04/02/2015</td>\n",
       "      <td>Wednesday</td>\n",
       "      <td>05/02/2020</td>\n",
       "      <td>All</td>\n",
       "      <td>All</td>\n",
       "      <td>All</td>\n",
       "      <td>$</td>\n",
       "      <td>74000000</td>\n",
       "      <td>746000000</td>\n",
       "    </tr>\n",
       "    <tr>\n",
       "      <th>...</th>\n",
       "      <td>...</td>\n",
       "      <td>...</td>\n",
       "      <td>...</td>\n",
       "      <td>...</td>\n",
       "      <td>...</td>\n",
       "      <td>...</td>\n",
       "      <td>...</td>\n",
       "      <td>...</td>\n",
       "      <td>...</td>\n",
       "      <td>...</td>\n",
       "      <td>...</td>\n",
       "    </tr>\n",
       "    <tr>\n",
       "      <th>71722</th>\n",
       "      <td>Reimpor</td>\n",
       "      <td>2020</td>\n",
       "      <td>21/11/2020</td>\n",
       "      <td>Saturday</td>\n",
       "      <td>21/11/2020</td>\n",
       "      <td>All</td>\n",
       "      <td>All</td>\n",
       "      <td>All</td>\n",
       "      <td>$</td>\n",
       "      <td>0</td>\n",
       "      <td>167000000</td>\n",
       "    </tr>\n",
       "    <tr>\n",
       "      <th>71723</th>\n",
       "      <td>Reimpor</td>\n",
       "      <td>2020</td>\n",
       "      <td>22/11/2020</td>\n",
       "      <td>Sunday</td>\n",
       "      <td>22/11/2020</td>\n",
       "      <td>All</td>\n",
       "      <td>All</td>\n",
       "      <td>All</td>\n",
       "      <td>$</td>\n",
       "      <td>0</td>\n",
       "      <td>167000000</td>\n",
       "    </tr>\n",
       "    <tr>\n",
       "      <th>71724</th>\n",
       "      <td>Reimpor</td>\n",
       "      <td>2020</td>\n",
       "      <td>23/11/2020</td>\n",
       "      <td>Monday</td>\n",
       "      <td>23/11/2020</td>\n",
       "      <td>All</td>\n",
       "      <td>All</td>\n",
       "      <td>All</td>\n",
       "      <td>$</td>\n",
       "      <td>1000000</td>\n",
       "      <td>168000000</td>\n",
       "    </tr>\n",
       "    <tr>\n",
       "      <th>71725</th>\n",
       "      <td>Reimpor</td>\n",
       "      <td>2020</td>\n",
       "      <td>24/11/2020</td>\n",
       "      <td>Tuesday</td>\n",
       "      <td>24/11/2020</td>\n",
       "      <td>All</td>\n",
       "      <td>All</td>\n",
       "      <td>All</td>\n",
       "      <td>$</td>\n",
       "      <td>2000000</td>\n",
       "      <td>170000000</td>\n",
       "    </tr>\n",
       "    <tr>\n",
       "      <th>71726</th>\n",
       "      <td>Reimpor</td>\n",
       "      <td>2020</td>\n",
       "      <td>25/11/2020</td>\n",
       "      <td>Wednesday</td>\n",
       "      <td>25/11/2020</td>\n",
       "      <td>All</td>\n",
       "      <td>All</td>\n",
       "      <td>All</td>\n",
       "      <td>$</td>\n",
       "      <td>1000000</td>\n",
       "      <td>171000000</td>\n",
       "    </tr>\n",
       "  </tbody>\n",
       "</table>\n",
       "<p>71727 rows × 11 columns</p>\n",
       "</div>"
      ],
      "text/plain": [
       "      Direction  Year        Date    Weekday Current_Match Country Commodity  \\\n",
       "0       Exports  2015  31/01/2015   Saturday    01/02/2020     All       All   \n",
       "1       Exports  2015  01/02/2015     Sunday    02/02/2020     All       All   \n",
       "2       Exports  2015  02/02/2015     Monday    03/02/2020     All       All   \n",
       "3       Exports  2015  03/02/2015    Tuesday    04/02/2020     All       All   \n",
       "4       Exports  2015  04/02/2015  Wednesday    05/02/2020     All       All   \n",
       "...         ...   ...         ...        ...           ...     ...       ...   \n",
       "71722   Reimpor  2020  21/11/2020   Saturday    21/11/2020     All       All   \n",
       "71723   Reimpor  2020  22/11/2020     Sunday    22/11/2020     All       All   \n",
       "71724   Reimpor  2020  23/11/2020     Monday    23/11/2020     All       All   \n",
       "71725   Reimpor  2020  24/11/2020    Tuesday    24/11/2020     All       All   \n",
       "71726   Reimpor  2020  25/11/2020  Wednesday    25/11/2020     All       All   \n",
       "\n",
       "      Transport_Mode Measure      Value  Cumulative  \n",
       "0                All       $  257000000   257000000  \n",
       "1                All       $  123000000   380000000  \n",
       "2                All       $  176000000   556000000  \n",
       "3                All       $  115000000   671000000  \n",
       "4                All       $   74000000   746000000  \n",
       "...              ...     ...        ...         ...  \n",
       "71722            All       $          0   167000000  \n",
       "71723            All       $          0   167000000  \n",
       "71724            All       $    1000000   168000000  \n",
       "71725            All       $    2000000   170000000  \n",
       "71726            All       $    1000000   171000000  \n",
       "\n",
       "[71727 rows x 11 columns]"
      ]
     },
     "execution_count": 4,
     "metadata": {},
     "output_type": "execute_result"
    }
   ],
   "source": [
    "df"
   ]
  },
  {
   "cell_type": "code",
   "execution_count": 5,
   "metadata": {},
   "outputs": [
    {
     "ename": "NameError",
     "evalue": "name 'country_df' is not defined",
     "output_type": "error",
     "traceback": [
      "\u001b[1;31m---------------------------------------------------------------------------\u001b[0m",
      "\u001b[1;31mNameError\u001b[0m                                 Traceback (most recent call last)",
      "\u001b[1;32m<ipython-input-5-a48b35734aea>\u001b[0m in \u001b[0;36m<module>\u001b[1;34m\u001b[0m\n\u001b[1;32m----> 1\u001b[1;33m \u001b[0mprint\u001b[0m \u001b[1;33m(\u001b[0m\u001b[0mcountry_df\u001b[0m\u001b[1;33m.\u001b[0m\u001b[0mhead\u001b[0m\u001b[1;33m(\u001b[0m\u001b[1;33m)\u001b[0m\u001b[1;33m)\u001b[0m\u001b[1;33m\u001b[0m\u001b[1;33m\u001b[0m\u001b[0m\n\u001b[0m",
      "\u001b[1;31mNameError\u001b[0m: name 'country_df' is not defined"
     ]
    }
   ],
   "source": [
    "print (country_df.head())"
   ]
  },
  {
   "cell_type": "code",
   "execution_count": 6,
   "metadata": {},
   "outputs": [
    {
     "ename": "KeyError",
     "evalue": "'country'",
     "output_type": "error",
     "traceback": [
      "\u001b[1;31m---------------------------------------------------------------------------\u001b[0m",
      "\u001b[1;31mKeyError\u001b[0m                                  Traceback (most recent call last)",
      "\u001b[1;32m~\\anaconda3\\lib\\site-packages\\pandas\\core\\indexes\\base.py\u001b[0m in \u001b[0;36mget_loc\u001b[1;34m(self, key, method, tolerance)\u001b[0m\n\u001b[0;32m   2894\u001b[0m             \u001b[1;32mtry\u001b[0m\u001b[1;33m:\u001b[0m\u001b[1;33m\u001b[0m\u001b[1;33m\u001b[0m\u001b[0m\n\u001b[1;32m-> 2895\u001b[1;33m                 \u001b[1;32mreturn\u001b[0m \u001b[0mself\u001b[0m\u001b[1;33m.\u001b[0m\u001b[0m_engine\u001b[0m\u001b[1;33m.\u001b[0m\u001b[0mget_loc\u001b[0m\u001b[1;33m(\u001b[0m\u001b[0mcasted_key\u001b[0m\u001b[1;33m)\u001b[0m\u001b[1;33m\u001b[0m\u001b[1;33m\u001b[0m\u001b[0m\n\u001b[0m\u001b[0;32m   2896\u001b[0m             \u001b[1;32mexcept\u001b[0m \u001b[0mKeyError\u001b[0m \u001b[1;32mas\u001b[0m \u001b[0merr\u001b[0m\u001b[1;33m:\u001b[0m\u001b[1;33m\u001b[0m\u001b[1;33m\u001b[0m\u001b[0m\n",
      "\u001b[1;32mpandas\\_libs\\index.pyx\u001b[0m in \u001b[0;36mpandas._libs.index.IndexEngine.get_loc\u001b[1;34m()\u001b[0m\n",
      "\u001b[1;32mpandas\\_libs\\index.pyx\u001b[0m in \u001b[0;36mpandas._libs.index.IndexEngine.get_loc\u001b[1;34m()\u001b[0m\n",
      "\u001b[1;32mpandas\\_libs\\hashtable_class_helper.pxi\u001b[0m in \u001b[0;36mpandas._libs.hashtable.PyObjectHashTable.get_item\u001b[1;34m()\u001b[0m\n",
      "\u001b[1;32mpandas\\_libs\\hashtable_class_helper.pxi\u001b[0m in \u001b[0;36mpandas._libs.hashtable.PyObjectHashTable.get_item\u001b[1;34m()\u001b[0m\n",
      "\u001b[1;31mKeyError\u001b[0m: 'country'",
      "\nThe above exception was the direct cause of the following exception:\n",
      "\u001b[1;31mKeyError\u001b[0m                                  Traceback (most recent call last)",
      "\u001b[1;32m<ipython-input-6-a8093f616820>\u001b[0m in \u001b[0;36m<module>\u001b[1;34m\u001b[0m\n\u001b[1;32m----> 1\u001b[1;33m \u001b[0mcountry_df\u001b[0m \u001b[1;33m=\u001b[0m \u001b[0mdf\u001b[0m\u001b[1;33m[\u001b[0m\u001b[1;34m'country'\u001b[0m\u001b[1;33m]\u001b[0m\u001b[1;33m\u001b[0m\u001b[1;33m\u001b[0m\u001b[0m\n\u001b[0m",
      "\u001b[1;32m~\\anaconda3\\lib\\site-packages\\pandas\\core\\frame.py\u001b[0m in \u001b[0;36m__getitem__\u001b[1;34m(self, key)\u001b[0m\n\u001b[0;32m   2900\u001b[0m             \u001b[1;32mif\u001b[0m \u001b[0mself\u001b[0m\u001b[1;33m.\u001b[0m\u001b[0mcolumns\u001b[0m\u001b[1;33m.\u001b[0m\u001b[0mnlevels\u001b[0m \u001b[1;33m>\u001b[0m \u001b[1;36m1\u001b[0m\u001b[1;33m:\u001b[0m\u001b[1;33m\u001b[0m\u001b[1;33m\u001b[0m\u001b[0m\n\u001b[0;32m   2901\u001b[0m                 \u001b[1;32mreturn\u001b[0m \u001b[0mself\u001b[0m\u001b[1;33m.\u001b[0m\u001b[0m_getitem_multilevel\u001b[0m\u001b[1;33m(\u001b[0m\u001b[0mkey\u001b[0m\u001b[1;33m)\u001b[0m\u001b[1;33m\u001b[0m\u001b[1;33m\u001b[0m\u001b[0m\n\u001b[1;32m-> 2902\u001b[1;33m             \u001b[0mindexer\u001b[0m \u001b[1;33m=\u001b[0m \u001b[0mself\u001b[0m\u001b[1;33m.\u001b[0m\u001b[0mcolumns\u001b[0m\u001b[1;33m.\u001b[0m\u001b[0mget_loc\u001b[0m\u001b[1;33m(\u001b[0m\u001b[0mkey\u001b[0m\u001b[1;33m)\u001b[0m\u001b[1;33m\u001b[0m\u001b[1;33m\u001b[0m\u001b[0m\n\u001b[0m\u001b[0;32m   2903\u001b[0m             \u001b[1;32mif\u001b[0m \u001b[0mis_integer\u001b[0m\u001b[1;33m(\u001b[0m\u001b[0mindexer\u001b[0m\u001b[1;33m)\u001b[0m\u001b[1;33m:\u001b[0m\u001b[1;33m\u001b[0m\u001b[1;33m\u001b[0m\u001b[0m\n\u001b[0;32m   2904\u001b[0m                 \u001b[0mindexer\u001b[0m \u001b[1;33m=\u001b[0m \u001b[1;33m[\u001b[0m\u001b[0mindexer\u001b[0m\u001b[1;33m]\u001b[0m\u001b[1;33m\u001b[0m\u001b[1;33m\u001b[0m\u001b[0m\n",
      "\u001b[1;32m~\\anaconda3\\lib\\site-packages\\pandas\\core\\indexes\\base.py\u001b[0m in \u001b[0;36mget_loc\u001b[1;34m(self, key, method, tolerance)\u001b[0m\n\u001b[0;32m   2895\u001b[0m                 \u001b[1;32mreturn\u001b[0m \u001b[0mself\u001b[0m\u001b[1;33m.\u001b[0m\u001b[0m_engine\u001b[0m\u001b[1;33m.\u001b[0m\u001b[0mget_loc\u001b[0m\u001b[1;33m(\u001b[0m\u001b[0mcasted_key\u001b[0m\u001b[1;33m)\u001b[0m\u001b[1;33m\u001b[0m\u001b[1;33m\u001b[0m\u001b[0m\n\u001b[0;32m   2896\u001b[0m             \u001b[1;32mexcept\u001b[0m \u001b[0mKeyError\u001b[0m \u001b[1;32mas\u001b[0m \u001b[0merr\u001b[0m\u001b[1;33m:\u001b[0m\u001b[1;33m\u001b[0m\u001b[1;33m\u001b[0m\u001b[0m\n\u001b[1;32m-> 2897\u001b[1;33m                 \u001b[1;32mraise\u001b[0m \u001b[0mKeyError\u001b[0m\u001b[1;33m(\u001b[0m\u001b[0mkey\u001b[0m\u001b[1;33m)\u001b[0m \u001b[1;32mfrom\u001b[0m \u001b[0merr\u001b[0m\u001b[1;33m\u001b[0m\u001b[1;33m\u001b[0m\u001b[0m\n\u001b[0m\u001b[0;32m   2898\u001b[0m \u001b[1;33m\u001b[0m\u001b[0m\n\u001b[0;32m   2899\u001b[0m         \u001b[1;32mif\u001b[0m \u001b[0mtolerance\u001b[0m \u001b[1;32mis\u001b[0m \u001b[1;32mnot\u001b[0m \u001b[1;32mNone\u001b[0m\u001b[1;33m:\u001b[0m\u001b[1;33m\u001b[0m\u001b[1;33m\u001b[0m\u001b[0m\n",
      "\u001b[1;31mKeyError\u001b[0m: 'country'"
     ]
    }
   ],
   "source": [
    "country_df = df['country']"
   ]
  },
  {
   "cell_type": "code",
   "execution_count": 7,
   "metadata": {},
   "outputs": [
    {
     "data": {
      "text/html": [
       "<div>\n",
       "<style scoped>\n",
       "    .dataframe tbody tr th:only-of-type {\n",
       "        vertical-align: middle;\n",
       "    }\n",
       "\n",
       "    .dataframe tbody tr th {\n",
       "        vertical-align: top;\n",
       "    }\n",
       "\n",
       "    .dataframe thead th {\n",
       "        text-align: right;\n",
       "    }\n",
       "</style>\n",
       "<table border=\"1\" class=\"dataframe\">\n",
       "  <thead>\n",
       "    <tr style=\"text-align: right;\">\n",
       "      <th></th>\n",
       "      <th>Direction</th>\n",
       "      <th>Year</th>\n",
       "      <th>Date</th>\n",
       "      <th>Weekday</th>\n",
       "      <th>Current_Match</th>\n",
       "      <th>Country</th>\n",
       "      <th>Commodity</th>\n",
       "      <th>Transport_Mode</th>\n",
       "      <th>Measure</th>\n",
       "      <th>Value</th>\n",
       "      <th>Cumulative</th>\n",
       "    </tr>\n",
       "  </thead>\n",
       "  <tbody>\n",
       "    <tr>\n",
       "      <th>0</th>\n",
       "      <td>Exports</td>\n",
       "      <td>2015</td>\n",
       "      <td>31/01/2015</td>\n",
       "      <td>Saturday</td>\n",
       "      <td>01/02/2020</td>\n",
       "      <td>All</td>\n",
       "      <td>All</td>\n",
       "      <td>All</td>\n",
       "      <td>$</td>\n",
       "      <td>257000000</td>\n",
       "      <td>257000000</td>\n",
       "    </tr>\n",
       "    <tr>\n",
       "      <th>1</th>\n",
       "      <td>Exports</td>\n",
       "      <td>2015</td>\n",
       "      <td>01/02/2015</td>\n",
       "      <td>Sunday</td>\n",
       "      <td>02/02/2020</td>\n",
       "      <td>All</td>\n",
       "      <td>All</td>\n",
       "      <td>All</td>\n",
       "      <td>$</td>\n",
       "      <td>123000000</td>\n",
       "      <td>380000000</td>\n",
       "    </tr>\n",
       "    <tr>\n",
       "      <th>2</th>\n",
       "      <td>Exports</td>\n",
       "      <td>2015</td>\n",
       "      <td>02/02/2015</td>\n",
       "      <td>Monday</td>\n",
       "      <td>03/02/2020</td>\n",
       "      <td>All</td>\n",
       "      <td>All</td>\n",
       "      <td>All</td>\n",
       "      <td>$</td>\n",
       "      <td>176000000</td>\n",
       "      <td>556000000</td>\n",
       "    </tr>\n",
       "    <tr>\n",
       "      <th>3</th>\n",
       "      <td>Exports</td>\n",
       "      <td>2015</td>\n",
       "      <td>03/02/2015</td>\n",
       "      <td>Tuesday</td>\n",
       "      <td>04/02/2020</td>\n",
       "      <td>All</td>\n",
       "      <td>All</td>\n",
       "      <td>All</td>\n",
       "      <td>$</td>\n",
       "      <td>115000000</td>\n",
       "      <td>671000000</td>\n",
       "    </tr>\n",
       "    <tr>\n",
       "      <th>4</th>\n",
       "      <td>Exports</td>\n",
       "      <td>2015</td>\n",
       "      <td>04/02/2015</td>\n",
       "      <td>Wednesday</td>\n",
       "      <td>05/02/2020</td>\n",
       "      <td>All</td>\n",
       "      <td>All</td>\n",
       "      <td>All</td>\n",
       "      <td>$</td>\n",
       "      <td>74000000</td>\n",
       "      <td>746000000</td>\n",
       "    </tr>\n",
       "    <tr>\n",
       "      <th>...</th>\n",
       "      <td>...</td>\n",
       "      <td>...</td>\n",
       "      <td>...</td>\n",
       "      <td>...</td>\n",
       "      <td>...</td>\n",
       "      <td>...</td>\n",
       "      <td>...</td>\n",
       "      <td>...</td>\n",
       "      <td>...</td>\n",
       "      <td>...</td>\n",
       "      <td>...</td>\n",
       "    </tr>\n",
       "    <tr>\n",
       "      <th>71722</th>\n",
       "      <td>Reimpor</td>\n",
       "      <td>2020</td>\n",
       "      <td>21/11/2020</td>\n",
       "      <td>Saturday</td>\n",
       "      <td>21/11/2020</td>\n",
       "      <td>All</td>\n",
       "      <td>All</td>\n",
       "      <td>All</td>\n",
       "      <td>$</td>\n",
       "      <td>0</td>\n",
       "      <td>167000000</td>\n",
       "    </tr>\n",
       "    <tr>\n",
       "      <th>71723</th>\n",
       "      <td>Reimpor</td>\n",
       "      <td>2020</td>\n",
       "      <td>22/11/2020</td>\n",
       "      <td>Sunday</td>\n",
       "      <td>22/11/2020</td>\n",
       "      <td>All</td>\n",
       "      <td>All</td>\n",
       "      <td>All</td>\n",
       "      <td>$</td>\n",
       "      <td>0</td>\n",
       "      <td>167000000</td>\n",
       "    </tr>\n",
       "    <tr>\n",
       "      <th>71724</th>\n",
       "      <td>Reimpor</td>\n",
       "      <td>2020</td>\n",
       "      <td>23/11/2020</td>\n",
       "      <td>Monday</td>\n",
       "      <td>23/11/2020</td>\n",
       "      <td>All</td>\n",
       "      <td>All</td>\n",
       "      <td>All</td>\n",
       "      <td>$</td>\n",
       "      <td>1000000</td>\n",
       "      <td>168000000</td>\n",
       "    </tr>\n",
       "    <tr>\n",
       "      <th>71725</th>\n",
       "      <td>Reimpor</td>\n",
       "      <td>2020</td>\n",
       "      <td>24/11/2020</td>\n",
       "      <td>Tuesday</td>\n",
       "      <td>24/11/2020</td>\n",
       "      <td>All</td>\n",
       "      <td>All</td>\n",
       "      <td>All</td>\n",
       "      <td>$</td>\n",
       "      <td>2000000</td>\n",
       "      <td>170000000</td>\n",
       "    </tr>\n",
       "    <tr>\n",
       "      <th>71726</th>\n",
       "      <td>Reimpor</td>\n",
       "      <td>2020</td>\n",
       "      <td>25/11/2020</td>\n",
       "      <td>Wednesday</td>\n",
       "      <td>25/11/2020</td>\n",
       "      <td>All</td>\n",
       "      <td>All</td>\n",
       "      <td>All</td>\n",
       "      <td>$</td>\n",
       "      <td>1000000</td>\n",
       "      <td>171000000</td>\n",
       "    </tr>\n",
       "  </tbody>\n",
       "</table>\n",
       "<p>71727 rows × 11 columns</p>\n",
       "</div>"
      ],
      "text/plain": [
       "      Direction  Year        Date    Weekday Current_Match Country Commodity  \\\n",
       "0       Exports  2015  31/01/2015   Saturday    01/02/2020     All       All   \n",
       "1       Exports  2015  01/02/2015     Sunday    02/02/2020     All       All   \n",
       "2       Exports  2015  02/02/2015     Monday    03/02/2020     All       All   \n",
       "3       Exports  2015  03/02/2015    Tuesday    04/02/2020     All       All   \n",
       "4       Exports  2015  04/02/2015  Wednesday    05/02/2020     All       All   \n",
       "...         ...   ...         ...        ...           ...     ...       ...   \n",
       "71722   Reimpor  2020  21/11/2020   Saturday    21/11/2020     All       All   \n",
       "71723   Reimpor  2020  22/11/2020     Sunday    22/11/2020     All       All   \n",
       "71724   Reimpor  2020  23/11/2020     Monday    23/11/2020     All       All   \n",
       "71725   Reimpor  2020  24/11/2020    Tuesday    24/11/2020     All       All   \n",
       "71726   Reimpor  2020  25/11/2020  Wednesday    25/11/2020     All       All   \n",
       "\n",
       "      Transport_Mode Measure      Value  Cumulative  \n",
       "0                All       $  257000000   257000000  \n",
       "1                All       $  123000000   380000000  \n",
       "2                All       $  176000000   556000000  \n",
       "3                All       $  115000000   671000000  \n",
       "4                All       $   74000000   746000000  \n",
       "...              ...     ...        ...         ...  \n",
       "71722            All       $          0   167000000  \n",
       "71723            All       $          0   167000000  \n",
       "71724            All       $    1000000   168000000  \n",
       "71725            All       $    2000000   170000000  \n",
       "71726            All       $    1000000   171000000  \n",
       "\n",
       "[71727 rows x 11 columns]"
      ]
     },
     "execution_count": 7,
     "metadata": {},
     "output_type": "execute_result"
    }
   ],
   "source": [
    "df"
   ]
  },
  {
   "cell_type": "code",
   "execution_count": 8,
   "metadata": {},
   "outputs": [
    {
     "name": "stdout",
     "output_type": "stream",
     "text": [
      "  Direction  Year        Date    Weekday Current_Match Country Commodity  \\\n",
      "0   Exports  2015  31/01/2015   Saturday    01/02/2020     All       All   \n",
      "1   Exports  2015  01/02/2015     Sunday    02/02/2020     All       All   \n",
      "2   Exports  2015  02/02/2015     Monday    03/02/2020     All       All   \n",
      "3   Exports  2015  03/02/2015    Tuesday    04/02/2020     All       All   \n",
      "4   Exports  2015  04/02/2015  Wednesday    05/02/2020     All       All   \n",
      "\n",
      "  Transport_Mode Measure      Value  Cumulative  \n",
      "0            All       $  257000000   257000000  \n",
      "1            All       $  123000000   380000000  \n",
      "2            All       $  176000000   556000000  \n",
      "3            All       $  115000000   671000000  \n",
      "4            All       $   74000000   746000000  \n"
     ]
    }
   ],
   "source": [
    "print (df.head())"
   ]
  },
  {
   "cell_type": "code",
   "execution_count": 9,
   "metadata": {},
   "outputs": [
    {
     "name": "stdout",
     "output_type": "stream",
     "text": [
      "<class 'pandas.core.frame.DataFrame'>\n",
      "RangeIndex: 71727 entries, 0 to 71726\n",
      "Data columns (total 11 columns):\n",
      " #   Column          Non-Null Count  Dtype \n",
      "---  ------          --------------  ----- \n",
      " 0   Direction       71727 non-null  object\n",
      " 1   Year            71727 non-null  int64 \n",
      " 2   Date            71727 non-null  object\n",
      " 3   Weekday         71727 non-null  object\n",
      " 4   Current_Match   71727 non-null  object\n",
      " 5   Country         71727 non-null  object\n",
      " 6   Commodity       71727 non-null  object\n",
      " 7   Transport_Mode  71727 non-null  object\n",
      " 8   Measure         71727 non-null  object\n",
      " 9   Value           71727 non-null  int64 \n",
      " 10  Cumulative      71727 non-null  int64 \n",
      "dtypes: int64(3), object(8)\n",
      "memory usage: 6.0+ MB\n",
      "None\n"
     ]
    }
   ],
   "source": [
    "print (df.info())"
   ]
  },
  {
   "cell_type": "code",
   "execution_count": 10,
   "metadata": {},
   "outputs": [
    {
     "ename": "NameError",
     "evalue": "name 'country_df' is not defined",
     "output_type": "error",
     "traceback": [
      "\u001b[1;31m---------------------------------------------------------------------------\u001b[0m",
      "\u001b[1;31mNameError\u001b[0m                                 Traceback (most recent call last)",
      "\u001b[1;32m<ipython-input-10-a48b35734aea>\u001b[0m in \u001b[0;36m<module>\u001b[1;34m\u001b[0m\n\u001b[1;32m----> 1\u001b[1;33m \u001b[0mprint\u001b[0m \u001b[1;33m(\u001b[0m\u001b[0mcountry_df\u001b[0m\u001b[1;33m.\u001b[0m\u001b[0mhead\u001b[0m\u001b[1;33m(\u001b[0m\u001b[1;33m)\u001b[0m\u001b[1;33m)\u001b[0m\u001b[1;33m\u001b[0m\u001b[1;33m\u001b[0m\u001b[0m\n\u001b[0m",
      "\u001b[1;31mNameError\u001b[0m: name 'country_df' is not defined"
     ]
    }
   ],
   "source": [
    "print (country_df.head())"
   ]
  },
  {
   "cell_type": "code",
   "execution_count": 11,
   "metadata": {},
   "outputs": [
    {
     "name": "stdout",
     "output_type": "stream",
     "text": [
      "<class 'pandas.core.frame.DataFrame'>\n",
      "RangeIndex: 71727 entries, 0 to 71726\n",
      "Data columns (total 11 columns):\n",
      " #   Column          Non-Null Count  Dtype \n",
      "---  ------          --------------  ----- \n",
      " 0   Direction       71727 non-null  object\n",
      " 1   Year            71727 non-null  int64 \n",
      " 2   Date            71727 non-null  object\n",
      " 3   Weekday         71727 non-null  object\n",
      " 4   Current_Match   71727 non-null  object\n",
      " 5   Country         71727 non-null  object\n",
      " 6   Commodity       71727 non-null  object\n",
      " 7   Transport_Mode  71727 non-null  object\n",
      " 8   Measure         71727 non-null  object\n",
      " 9   Value           71727 non-null  int64 \n",
      " 10  Cumulative      71727 non-null  int64 \n",
      "dtypes: int64(3), object(8)\n",
      "memory usage: 6.0+ MB\n",
      "None\n"
     ]
    }
   ],
   "source": [
    "print (df.info())"
   ]
  },
  {
   "cell_type": "code",
   "execution_count": 12,
   "metadata": {},
   "outputs": [],
   "source": [
    "df_country = df ['Country']"
   ]
  },
  {
   "cell_type": "code",
   "execution_count": 13,
   "metadata": {},
   "outputs": [
    {
     "name": "stdout",
     "output_type": "stream",
     "text": [
      "0    All\n",
      "1    All\n",
      "2    All\n",
      "3    All\n",
      "4    All\n",
      "Name: Country, dtype: object\n"
     ]
    }
   ],
   "source": [
    "print (df_country.head())"
   ]
  },
  {
   "cell_type": "code",
   "execution_count": 14,
   "metadata": {},
   "outputs": [
    {
     "name": "stdout",
     "output_type": "stream",
     "text": [
      "71722    All\n",
      "71723    All\n",
      "71724    All\n",
      "71725    All\n",
      "71726    All\n",
      "Name: Country, dtype: object\n"
     ]
    }
   ],
   "source": [
    "print (df_country.tail())"
   ]
  },
  {
   "cell_type": "code",
   "execution_count": 15,
   "metadata": {},
   "outputs": [
    {
     "ename": "NameError",
     "evalue": "name 'subset' is not defined",
     "output_type": "error",
     "traceback": [
      "\u001b[1;31m---------------------------------------------------------------------------\u001b[0m",
      "\u001b[1;31mNameError\u001b[0m                                 Traceback (most recent call last)",
      "\u001b[1;32m<ipython-input-15-47cc2e1120e4>\u001b[0m in \u001b[0;36m<module>\u001b[1;34m\u001b[0m\n\u001b[1;32m----> 1\u001b[1;33m \u001b[0mprint\u001b[0m\u001b[1;33m(\u001b[0m\u001b[0msubset\u001b[0m\u001b[1;33m.\u001b[0m\u001b[0mtail\u001b[0m\u001b[1;33m)\u001b[0m\u001b[1;33m\u001b[0m\u001b[1;33m\u001b[0m\u001b[0m\n\u001b[0m",
      "\u001b[1;31mNameError\u001b[0m: name 'subset' is not defined"
     ]
    }
   ],
   "source": [
    "print(subset.tail)"
   ]
  },
  {
   "cell_type": "code",
   "execution_count": 16,
   "metadata": {},
   "outputs": [],
   "source": [
    "df_subset = df[['Country', 'Measure','Value']]"
   ]
  },
  {
   "cell_type": "code",
   "execution_count": 17,
   "metadata": {},
   "outputs": [
    {
     "ename": "NameError",
     "evalue": "name 'subset' is not defined",
     "output_type": "error",
     "traceback": [
      "\u001b[1;31m---------------------------------------------------------------------------\u001b[0m",
      "\u001b[1;31mNameError\u001b[0m                                 Traceback (most recent call last)",
      "\u001b[1;32m<ipython-input-17-17881aaade4d>\u001b[0m in \u001b[0;36m<module>\u001b[1;34m\u001b[0m\n\u001b[1;32m----> 1\u001b[1;33m \u001b[0mprint\u001b[0m\u001b[1;33m(\u001b[0m\u001b[0msubset\u001b[0m\u001b[1;33m.\u001b[0m\u001b[0mhead\u001b[0m\u001b[1;33m(\u001b[0m\u001b[1;33m)\u001b[0m\u001b[1;33m)\u001b[0m\u001b[1;33m\u001b[0m\u001b[1;33m\u001b[0m\u001b[0m\n\u001b[0m",
      "\u001b[1;31mNameError\u001b[0m: name 'subset' is not defined"
     ]
    }
   ],
   "source": [
    "print(subset.head())"
   ]
  },
  {
   "cell_type": "code",
   "execution_count": 18,
   "metadata": {},
   "outputs": [
    {
     "ename": "NameError",
     "evalue": "name 'subset' is not defined",
     "output_type": "error",
     "traceback": [
      "\u001b[1;31m---------------------------------------------------------------------------\u001b[0m",
      "\u001b[1;31mNameError\u001b[0m                                 Traceback (most recent call last)",
      "\u001b[1;32m<ipython-input-18-7bc205ccc975>\u001b[0m in \u001b[0;36m<module>\u001b[1;34m\u001b[0m\n\u001b[1;32m----> 1\u001b[1;33m \u001b[0mprint\u001b[0m\u001b[1;33m(\u001b[0m\u001b[0msubset\u001b[0m\u001b[1;33m.\u001b[0m\u001b[0mhead\u001b[0m\u001b[1;33m)\u001b[0m\u001b[1;33m\u001b[0m\u001b[1;33m\u001b[0m\u001b[0m\n\u001b[0m",
      "\u001b[1;31mNameError\u001b[0m: name 'subset' is not defined"
     ]
    }
   ],
   "source": [
    "print(subset.head)"
   ]
  },
  {
   "cell_type": "code",
   "execution_count": 19,
   "metadata": {},
   "outputs": [],
   "source": [
    "df_subset = df[['Country', 'Measure','Value']]"
   ]
  },
  {
   "cell_type": "code",
   "execution_count": 20,
   "metadata": {},
   "outputs": [
    {
     "ename": "NameError",
     "evalue": "name 'subset' is not defined",
     "output_type": "error",
     "traceback": [
      "\u001b[1;31m---------------------------------------------------------------------------\u001b[0m",
      "\u001b[1;31mNameError\u001b[0m                                 Traceback (most recent call last)",
      "\u001b[1;32m<ipython-input-20-7bc205ccc975>\u001b[0m in \u001b[0;36m<module>\u001b[1;34m\u001b[0m\n\u001b[1;32m----> 1\u001b[1;33m \u001b[0mprint\u001b[0m\u001b[1;33m(\u001b[0m\u001b[0msubset\u001b[0m\u001b[1;33m.\u001b[0m\u001b[0mhead\u001b[0m\u001b[1;33m)\u001b[0m\u001b[1;33m\u001b[0m\u001b[1;33m\u001b[0m\u001b[0m\n\u001b[0m",
      "\u001b[1;31mNameError\u001b[0m: name 'subset' is not defined"
     ]
    }
   ],
   "source": [
    "print(subset.head)"
   ]
  },
  {
   "cell_type": "code",
   "execution_count": 21,
   "metadata": {},
   "outputs": [],
   "source": [
    "subset = df[['Country', 'Measure','Value']]"
   ]
  },
  {
   "cell_type": "code",
   "execution_count": 22,
   "metadata": {},
   "outputs": [
    {
     "name": "stdout",
     "output_type": "stream",
     "text": [
      "  Country Measure      Value\n",
      "0     All       $  257000000\n",
      "1     All       $  123000000\n",
      "2     All       $  176000000\n",
      "3     All       $  115000000\n",
      "4     All       $   74000000\n"
     ]
    }
   ],
   "source": [
    "print(subset.head())"
   ]
  },
  {
   "cell_type": "code",
   "execution_count": 23,
   "metadata": {},
   "outputs": [
    {
     "name": "stdout",
     "output_type": "stream",
     "text": [
      "      Country Measure    Value\n",
      "71722     All       $        0\n",
      "71723     All       $        0\n",
      "71724     All       $  1000000\n",
      "71725     All       $  2000000\n",
      "71726     All       $  1000000\n"
     ]
    }
   ],
   "source": [
    "print(subset.tail())"
   ]
  },
  {
   "cell_type": "code",
   "execution_count": 24,
   "metadata": {},
   "outputs": [
    {
     "name": "stdout",
     "output_type": "stream",
     "text": [
      "Direction            Exports\n",
      "Year                    2015\n",
      "Date              31/01/2015\n",
      "Weekday             Saturday\n",
      "Current_Match     01/02/2020\n",
      "Country                  All\n",
      "Commodity                All\n",
      "Transport_Mode           All\n",
      "Measure                    $\n",
      "Value              257000000\n",
      "Cumulative         257000000\n",
      "Name: 0, dtype: object\n"
     ]
    }
   ],
   "source": [
    "print(df.loc[0])"
   ]
  },
  {
   "cell_type": "code",
   "execution_count": 25,
   "metadata": {},
   "outputs": [
    {
     "name": "stdout",
     "output_type": "stream",
     "text": [
      "Direction            Exports\n",
      "Year                    2015\n",
      "Date              02/03/2015\n",
      "Weekday               Monday\n",
      "Current_Match     02/03/2020\n",
      "Country                  All\n",
      "Commodity                All\n",
      "Transport_Mode           All\n",
      "Measure                    $\n",
      "Value              219000000\n",
      "Cumulative        4750000000\n",
      "Name: 30, dtype: object\n"
     ]
    }
   ],
   "source": [
    "print(df.loc[30])"
   ]
  },
  {
   "cell_type": "code",
   "execution_count": 26,
   "metadata": {},
   "outputs": [
    {
     "name": "stdout",
     "output_type": "stream",
     "text": [
      "Direction            Exports\n",
      "Year                    2015\n",
      "Date              12/02/2015\n",
      "Weekday             Thursday\n",
      "Current_Match     13/02/2020\n",
      "Country                  All\n",
      "Commodity                All\n",
      "Transport_Mode           All\n",
      "Measure                    $\n",
      "Value              132000000\n",
      "Cumulative        1801000000\n",
      "Name: 12, dtype: object\n"
     ]
    }
   ],
   "source": [
    "print(df.loc[12])"
   ]
  },
  {
   "cell_type": "code",
   "execution_count": 27,
   "metadata": {},
   "outputs": [
    {
     "name": "stdout",
     "output_type": "stream",
     "text": [
      "      Direction  Year        Date    Weekday Current_Match Country Commodity  \\\n",
      "71726   Reimpor  2020  25/11/2020  Wednesday    25/11/2020     All       All   \n",
      "\n",
      "      Transport_Mode Measure    Value  Cumulative  \n",
      "71726            All       $  1000000   171000000  \n"
     ]
    }
   ],
   "source": [
    "print(df.tail(n=1))"
   ]
  },
  {
   "cell_type": "code",
   "execution_count": 28,
   "metadata": {},
   "outputs": [
    {
     "name": "stdout",
     "output_type": "stream",
     "text": [
      "      Direction  Year        Date    Weekday Current_Match Country Commodity  \\\n",
      "71725   Reimpor  2020  24/11/2020    Tuesday    24/11/2020     All       All   \n",
      "71726   Reimpor  2020  25/11/2020  Wednesday    25/11/2020     All       All   \n",
      "\n",
      "      Transport_Mode Measure    Value  Cumulative  \n",
      "71725            All       $  2000000   170000000  \n",
      "71726            All       $  1000000   171000000  \n"
     ]
    }
   ],
   "source": [
    "print(df.tail(n=2))"
   ]
  },
  {
   "cell_type": "code",
   "execution_count": 29,
   "metadata": {},
   "outputs": [
    {
     "name": "stdout",
     "output_type": "stream",
     "text": [
      "      Direction  Year        Date    Weekday Current_Match Country Commodity  \\\n",
      "71724   Reimpor  2020  23/11/2020     Monday    23/11/2020     All       All   \n",
      "71725   Reimpor  2020  24/11/2020    Tuesday    24/11/2020     All       All   \n",
      "71726   Reimpor  2020  25/11/2020  Wednesday    25/11/2020     All       All   \n",
      "\n",
      "      Transport_Mode Measure    Value  Cumulative  \n",
      "71724            All       $  1000000   168000000  \n",
      "71725            All       $  2000000   170000000  \n",
      "71726            All       $  1000000   171000000  \n"
     ]
    }
   ],
   "source": [
    "print(df.tail(n=3))"
   ]
  },
  {
   "cell_type": "code",
   "execution_count": 30,
   "metadata": {},
   "outputs": [
    {
     "name": "stdout",
     "output_type": "stream",
     "text": [
      "    Direction  Year        Date    Weekday Current_Match Country Commodity  \\\n",
      "0     Exports  2015  31/01/2015   Saturday    01/02/2020     All       All   \n",
      "99    Exports  2015  10/05/2015     Sunday    10/05/2020     All       All   \n",
      "999   Exports  2018  16/05/2018  Wednesday    13/05/2020     All       All   \n",
      "\n",
      "    Transport_Mode Measure      Value   Cumulative  \n",
      "0              All       $  257000000    257000000  \n",
      "99             All       $  157000000  14555000000  \n",
      "999            All       $  195000000  16567000000  \n"
     ]
    }
   ],
   "source": [
    "print(df.loc[[0, 99, 999]])"
   ]
  },
  {
   "cell_type": "code",
   "execution_count": 31,
   "metadata": {},
   "outputs": [
    {
     "name": "stdout",
     "output_type": "stream",
     "text": [
      "Direction            Exports\n",
      "Year                    2015\n",
      "Date              01/02/2015\n",
      "Weekday               Sunday\n",
      "Current_Match     02/02/2020\n",
      "Country                  All\n",
      "Commodity                All\n",
      "Transport_Mode           All\n",
      "Measure                    $\n",
      "Value              123000000\n",
      "Cumulative         380000000\n",
      "Name: 1, dtype: object\n"
     ]
    }
   ],
   "source": [
    "print(df.iloc[1])"
   ]
  },
  {
   "cell_type": "code",
   "execution_count": 32,
   "metadata": {},
   "outputs": [
    {
     "name": "stdout",
     "output_type": "stream",
     "text": [
      "Direction            Exports\n",
      "Year                    2015\n",
      "Date              05/03/2015\n",
      "Weekday             Thursday\n",
      "Current_Match     05/03/2020\n",
      "Country                  All\n",
      "Commodity                All\n",
      "Transport_Mode           All\n",
      "Measure                    $\n",
      "Value              158000000\n",
      "Cumulative        5197000000\n",
      "Name: 33, dtype: object\n"
     ]
    }
   ],
   "source": [
    "print(df.iloc[33])"
   ]
  },
  {
   "cell_type": "code",
   "execution_count": 33,
   "metadata": {},
   "outputs": [
    {
     "name": "stdout",
     "output_type": "stream",
     "text": [
      "Direction            Reimpor\n",
      "Year                    2020\n",
      "Date              25/11/2020\n",
      "Weekday            Wednesday\n",
      "Current_Match     25/11/2020\n",
      "Country                  All\n",
      "Commodity                All\n",
      "Transport_Mode           All\n",
      "Measure                    $\n",
      "Value                1000000\n",
      "Cumulative         171000000\n",
      "Name: 71726, dtype: object\n"
     ]
    }
   ],
   "source": [
    "print(df.iloc[-1])"
   ]
  },
  {
   "cell_type": "code",
   "execution_count": 35,
   "metadata": {},
   "outputs": [
    {
     "name": "stdout",
     "output_type": "stream",
     "text": [
      "    Direction  Year        Date    Weekday Current_Match Country Commodity  \\\n",
      "0     Exports  2015  31/01/2015   Saturday    01/02/2020     All       All   \n",
      "99    Exports  2015  10/05/2015     Sunday    10/05/2020     All       All   \n",
      "999   Exports  2018  16/05/2018  Wednesday    13/05/2020     All       All   \n",
      "\n",
      "    Transport_Mode Measure      Value   Cumulative  \n",
      "0              All       $  257000000    257000000  \n",
      "99             All       $  157000000  14555000000  \n",
      "999            All       $  195000000  16567000000  \n"
     ]
    }
   ],
   "source": [
    "print(df.iloc[[0, 99, 999]])"
   ]
  },
  {
   "cell_type": "code",
   "execution_count": 38,
   "metadata": {},
   "outputs": [
    {
     "ename": "KeyError",
     "evalue": "\"None of [Index(['year', 'date'], dtype='object')] are in the [columns]\"",
     "output_type": "error",
     "traceback": [
      "\u001b[1;31m---------------------------------------------------------------------------\u001b[0m",
      "\u001b[1;31mKeyError\u001b[0m                                  Traceback (most recent call last)",
      "\u001b[1;32m<ipython-input-38-d60dfd37e4dd>\u001b[0m in \u001b[0;36m<module>\u001b[1;34m\u001b[0m\n\u001b[1;32m----> 1\u001b[1;33m \u001b[0msubset\u001b[0m \u001b[1;33m=\u001b[0m \u001b[0mdf\u001b[0m\u001b[1;33m.\u001b[0m\u001b[0mloc\u001b[0m\u001b[1;33m[\u001b[0m\u001b[1;33m:\u001b[0m\u001b[1;33m,\u001b[0m \u001b[1;33m[\u001b[0m\u001b[1;34m'year'\u001b[0m\u001b[1;33m,\u001b[0m \u001b[1;34m'date'\u001b[0m\u001b[1;33m]\u001b[0m\u001b[1;33m]\u001b[0m\u001b[1;33m\u001b[0m\u001b[1;33m\u001b[0m\u001b[0m\n\u001b[0m",
      "\u001b[1;32m~\\anaconda3\\lib\\site-packages\\pandas\\core\\indexing.py\u001b[0m in \u001b[0;36m__getitem__\u001b[1;34m(self, key)\u001b[0m\n\u001b[0;32m    871\u001b[0m                     \u001b[1;31m# AttributeError for IntervalTree get_value\u001b[0m\u001b[1;33m\u001b[0m\u001b[1;33m\u001b[0m\u001b[1;33m\u001b[0m\u001b[0m\n\u001b[0;32m    872\u001b[0m                     \u001b[1;32mpass\u001b[0m\u001b[1;33m\u001b[0m\u001b[1;33m\u001b[0m\u001b[0m\n\u001b[1;32m--> 873\u001b[1;33m             \u001b[1;32mreturn\u001b[0m \u001b[0mself\u001b[0m\u001b[1;33m.\u001b[0m\u001b[0m_getitem_tuple\u001b[0m\u001b[1;33m(\u001b[0m\u001b[0mkey\u001b[0m\u001b[1;33m)\u001b[0m\u001b[1;33m\u001b[0m\u001b[1;33m\u001b[0m\u001b[0m\n\u001b[0m\u001b[0;32m    874\u001b[0m         \u001b[1;32melse\u001b[0m\u001b[1;33m:\u001b[0m\u001b[1;33m\u001b[0m\u001b[1;33m\u001b[0m\u001b[0m\n\u001b[0;32m    875\u001b[0m             \u001b[1;31m# we by definition only have the 0th axis\u001b[0m\u001b[1;33m\u001b[0m\u001b[1;33m\u001b[0m\u001b[1;33m\u001b[0m\u001b[0m\n",
      "\u001b[1;32m~\\anaconda3\\lib\\site-packages\\pandas\\core\\indexing.py\u001b[0m in \u001b[0;36m_getitem_tuple\u001b[1;34m(self, tup)\u001b[0m\n\u001b[0;32m   1053\u001b[0m             \u001b[1;32mreturn\u001b[0m \u001b[0mself\u001b[0m\u001b[1;33m.\u001b[0m\u001b[0m_multi_take\u001b[0m\u001b[1;33m(\u001b[0m\u001b[0mtup\u001b[0m\u001b[1;33m)\u001b[0m\u001b[1;33m\u001b[0m\u001b[1;33m\u001b[0m\u001b[0m\n\u001b[0;32m   1054\u001b[0m \u001b[1;33m\u001b[0m\u001b[0m\n\u001b[1;32m-> 1055\u001b[1;33m         \u001b[1;32mreturn\u001b[0m \u001b[0mself\u001b[0m\u001b[1;33m.\u001b[0m\u001b[0m_getitem_tuple_same_dim\u001b[0m\u001b[1;33m(\u001b[0m\u001b[0mtup\u001b[0m\u001b[1;33m)\u001b[0m\u001b[1;33m\u001b[0m\u001b[1;33m\u001b[0m\u001b[0m\n\u001b[0m\u001b[0;32m   1056\u001b[0m \u001b[1;33m\u001b[0m\u001b[0m\n\u001b[0;32m   1057\u001b[0m     \u001b[1;32mdef\u001b[0m \u001b[0m_get_label\u001b[0m\u001b[1;33m(\u001b[0m\u001b[0mself\u001b[0m\u001b[1;33m,\u001b[0m \u001b[0mlabel\u001b[0m\u001b[1;33m,\u001b[0m \u001b[0maxis\u001b[0m\u001b[1;33m:\u001b[0m \u001b[0mint\u001b[0m\u001b[1;33m)\u001b[0m\u001b[1;33m:\u001b[0m\u001b[1;33m\u001b[0m\u001b[1;33m\u001b[0m\u001b[0m\n",
      "\u001b[1;32m~\\anaconda3\\lib\\site-packages\\pandas\\core\\indexing.py\u001b[0m in \u001b[0;36m_getitem_tuple_same_dim\u001b[1;34m(self, tup)\u001b[0m\n\u001b[0;32m    748\u001b[0m                 \u001b[1;32mcontinue\u001b[0m\u001b[1;33m\u001b[0m\u001b[1;33m\u001b[0m\u001b[0m\n\u001b[0;32m    749\u001b[0m \u001b[1;33m\u001b[0m\u001b[0m\n\u001b[1;32m--> 750\u001b[1;33m             \u001b[0mretval\u001b[0m \u001b[1;33m=\u001b[0m \u001b[0mgetattr\u001b[0m\u001b[1;33m(\u001b[0m\u001b[0mretval\u001b[0m\u001b[1;33m,\u001b[0m \u001b[0mself\u001b[0m\u001b[1;33m.\u001b[0m\u001b[0mname\u001b[0m\u001b[1;33m)\u001b[0m\u001b[1;33m.\u001b[0m\u001b[0m_getitem_axis\u001b[0m\u001b[1;33m(\u001b[0m\u001b[0mkey\u001b[0m\u001b[1;33m,\u001b[0m \u001b[0maxis\u001b[0m\u001b[1;33m=\u001b[0m\u001b[0mi\u001b[0m\u001b[1;33m)\u001b[0m\u001b[1;33m\u001b[0m\u001b[1;33m\u001b[0m\u001b[0m\n\u001b[0m\u001b[0;32m    751\u001b[0m             \u001b[1;31m# We should never have retval.ndim < self.ndim, as that should\u001b[0m\u001b[1;33m\u001b[0m\u001b[1;33m\u001b[0m\u001b[1;33m\u001b[0m\u001b[0m\n\u001b[0;32m    752\u001b[0m             \u001b[1;31m#  be handled by the _getitem_lowerdim call above.\u001b[0m\u001b[1;33m\u001b[0m\u001b[1;33m\u001b[0m\u001b[1;33m\u001b[0m\u001b[0m\n",
      "\u001b[1;32m~\\anaconda3\\lib\\site-packages\\pandas\\core\\indexing.py\u001b[0m in \u001b[0;36m_getitem_axis\u001b[1;34m(self, key, axis)\u001b[0m\n\u001b[0;32m   1097\u001b[0m                     \u001b[1;32mraise\u001b[0m \u001b[0mValueError\u001b[0m\u001b[1;33m(\u001b[0m\u001b[1;34m\"Cannot index with multidimensional key\"\u001b[0m\u001b[1;33m)\u001b[0m\u001b[1;33m\u001b[0m\u001b[1;33m\u001b[0m\u001b[0m\n\u001b[0;32m   1098\u001b[0m \u001b[1;33m\u001b[0m\u001b[0m\n\u001b[1;32m-> 1099\u001b[1;33m                 \u001b[1;32mreturn\u001b[0m \u001b[0mself\u001b[0m\u001b[1;33m.\u001b[0m\u001b[0m_getitem_iterable\u001b[0m\u001b[1;33m(\u001b[0m\u001b[0mkey\u001b[0m\u001b[1;33m,\u001b[0m \u001b[0maxis\u001b[0m\u001b[1;33m=\u001b[0m\u001b[0maxis\u001b[0m\u001b[1;33m)\u001b[0m\u001b[1;33m\u001b[0m\u001b[1;33m\u001b[0m\u001b[0m\n\u001b[0m\u001b[0;32m   1100\u001b[0m \u001b[1;33m\u001b[0m\u001b[0m\n\u001b[0;32m   1101\u001b[0m             \u001b[1;31m# nested tuple slicing\u001b[0m\u001b[1;33m\u001b[0m\u001b[1;33m\u001b[0m\u001b[1;33m\u001b[0m\u001b[0m\n",
      "\u001b[1;32m~\\anaconda3\\lib\\site-packages\\pandas\\core\\indexing.py\u001b[0m in \u001b[0;36m_getitem_iterable\u001b[1;34m(self, key, axis)\u001b[0m\n\u001b[0;32m   1035\u001b[0m \u001b[1;33m\u001b[0m\u001b[0m\n\u001b[0;32m   1036\u001b[0m         \u001b[1;31m# A collection of keys\u001b[0m\u001b[1;33m\u001b[0m\u001b[1;33m\u001b[0m\u001b[1;33m\u001b[0m\u001b[0m\n\u001b[1;32m-> 1037\u001b[1;33m         \u001b[0mkeyarr\u001b[0m\u001b[1;33m,\u001b[0m \u001b[0mindexer\u001b[0m \u001b[1;33m=\u001b[0m \u001b[0mself\u001b[0m\u001b[1;33m.\u001b[0m\u001b[0m_get_listlike_indexer\u001b[0m\u001b[1;33m(\u001b[0m\u001b[0mkey\u001b[0m\u001b[1;33m,\u001b[0m \u001b[0maxis\u001b[0m\u001b[1;33m,\u001b[0m \u001b[0mraise_missing\u001b[0m\u001b[1;33m=\u001b[0m\u001b[1;32mFalse\u001b[0m\u001b[1;33m)\u001b[0m\u001b[1;33m\u001b[0m\u001b[1;33m\u001b[0m\u001b[0m\n\u001b[0m\u001b[0;32m   1038\u001b[0m         return self.obj._reindex_with_indexers(\n\u001b[0;32m   1039\u001b[0m             \u001b[1;33m{\u001b[0m\u001b[0maxis\u001b[0m\u001b[1;33m:\u001b[0m \u001b[1;33m[\u001b[0m\u001b[0mkeyarr\u001b[0m\u001b[1;33m,\u001b[0m \u001b[0mindexer\u001b[0m\u001b[1;33m]\u001b[0m\u001b[1;33m}\u001b[0m\u001b[1;33m,\u001b[0m \u001b[0mcopy\u001b[0m\u001b[1;33m=\u001b[0m\u001b[1;32mTrue\u001b[0m\u001b[1;33m,\u001b[0m \u001b[0mallow_dups\u001b[0m\u001b[1;33m=\u001b[0m\u001b[1;32mTrue\u001b[0m\u001b[1;33m\u001b[0m\u001b[1;33m\u001b[0m\u001b[0m\n",
      "\u001b[1;32m~\\anaconda3\\lib\\site-packages\\pandas\\core\\indexing.py\u001b[0m in \u001b[0;36m_get_listlike_indexer\u001b[1;34m(self, key, axis, raise_missing)\u001b[0m\n\u001b[0;32m   1252\u001b[0m             \u001b[0mkeyarr\u001b[0m\u001b[1;33m,\u001b[0m \u001b[0mindexer\u001b[0m\u001b[1;33m,\u001b[0m \u001b[0mnew_indexer\u001b[0m \u001b[1;33m=\u001b[0m \u001b[0max\u001b[0m\u001b[1;33m.\u001b[0m\u001b[0m_reindex_non_unique\u001b[0m\u001b[1;33m(\u001b[0m\u001b[0mkeyarr\u001b[0m\u001b[1;33m)\u001b[0m\u001b[1;33m\u001b[0m\u001b[1;33m\u001b[0m\u001b[0m\n\u001b[0;32m   1253\u001b[0m \u001b[1;33m\u001b[0m\u001b[0m\n\u001b[1;32m-> 1254\u001b[1;33m         \u001b[0mself\u001b[0m\u001b[1;33m.\u001b[0m\u001b[0m_validate_read_indexer\u001b[0m\u001b[1;33m(\u001b[0m\u001b[0mkeyarr\u001b[0m\u001b[1;33m,\u001b[0m \u001b[0mindexer\u001b[0m\u001b[1;33m,\u001b[0m \u001b[0maxis\u001b[0m\u001b[1;33m,\u001b[0m \u001b[0mraise_missing\u001b[0m\u001b[1;33m=\u001b[0m\u001b[0mraise_missing\u001b[0m\u001b[1;33m)\u001b[0m\u001b[1;33m\u001b[0m\u001b[1;33m\u001b[0m\u001b[0m\n\u001b[0m\u001b[0;32m   1255\u001b[0m         \u001b[1;32mreturn\u001b[0m \u001b[0mkeyarr\u001b[0m\u001b[1;33m,\u001b[0m \u001b[0mindexer\u001b[0m\u001b[1;33m\u001b[0m\u001b[1;33m\u001b[0m\u001b[0m\n\u001b[0;32m   1256\u001b[0m \u001b[1;33m\u001b[0m\u001b[0m\n",
      "\u001b[1;32m~\\anaconda3\\lib\\site-packages\\pandas\\core\\indexing.py\u001b[0m in \u001b[0;36m_validate_read_indexer\u001b[1;34m(self, key, indexer, axis, raise_missing)\u001b[0m\n\u001b[0;32m   1296\u001b[0m             \u001b[1;32mif\u001b[0m \u001b[0mmissing\u001b[0m \u001b[1;33m==\u001b[0m \u001b[0mlen\u001b[0m\u001b[1;33m(\u001b[0m\u001b[0mindexer\u001b[0m\u001b[1;33m)\u001b[0m\u001b[1;33m:\u001b[0m\u001b[1;33m\u001b[0m\u001b[1;33m\u001b[0m\u001b[0m\n\u001b[0;32m   1297\u001b[0m                 \u001b[0maxis_name\u001b[0m \u001b[1;33m=\u001b[0m \u001b[0mself\u001b[0m\u001b[1;33m.\u001b[0m\u001b[0mobj\u001b[0m\u001b[1;33m.\u001b[0m\u001b[0m_get_axis_name\u001b[0m\u001b[1;33m(\u001b[0m\u001b[0maxis\u001b[0m\u001b[1;33m)\u001b[0m\u001b[1;33m\u001b[0m\u001b[1;33m\u001b[0m\u001b[0m\n\u001b[1;32m-> 1298\u001b[1;33m                 \u001b[1;32mraise\u001b[0m \u001b[0mKeyError\u001b[0m\u001b[1;33m(\u001b[0m\u001b[1;34mf\"None of [{key}] are in the [{axis_name}]\"\u001b[0m\u001b[1;33m)\u001b[0m\u001b[1;33m\u001b[0m\u001b[1;33m\u001b[0m\u001b[0m\n\u001b[0m\u001b[0;32m   1299\u001b[0m \u001b[1;33m\u001b[0m\u001b[0m\n\u001b[0;32m   1300\u001b[0m             \u001b[1;31m# We (temporarily) allow for some missing keys with .loc, except in\u001b[0m\u001b[1;33m\u001b[0m\u001b[1;33m\u001b[0m\u001b[1;33m\u001b[0m\u001b[0m\n",
      "\u001b[1;31mKeyError\u001b[0m: \"None of [Index(['year', 'date'], dtype='object')] are in the [columns]\""
     ]
    }
   ],
   "source": [
    "subset = df.loc[:, ['year', 'date']]"
   ]
  },
  {
   "cell_type": "code",
   "execution_count": 39,
   "metadata": {},
   "outputs": [],
   "source": [
    "subset = df.loc[:, ['Year', 'Date']]"
   ]
  },
  {
   "cell_type": "code",
   "execution_count": 40,
   "metadata": {},
   "outputs": [
    {
     "name": "stdout",
     "output_type": "stream",
     "text": [
      "   Year        Date\n",
      "0  2015  31/01/2015\n",
      "1  2015  01/02/2015\n",
      "2  2015  02/02/2015\n",
      "3  2015  03/02/2015\n",
      "4  2015  04/02/2015\n"
     ]
    }
   ],
   "source": [
    "print(subset.head())"
   ]
  },
  {
   "cell_type": "code",
   "execution_count": 41,
   "metadata": {},
   "outputs": [
    {
     "name": "stdout",
     "output_type": "stream",
     "text": [
      "       Year        Date\n",
      "71722  2020  21/11/2020\n",
      "71723  2020  22/11/2020\n",
      "71724  2020  23/11/2020\n",
      "71725  2020  24/11/2020\n",
      "71726  2020  25/11/2020\n"
     ]
    }
   ],
   "source": [
    "print(subset.tail())"
   ]
  },
  {
   "cell_type": "code",
   "execution_count": 42,
   "metadata": {},
   "outputs": [],
   "source": [
    "subset = df.loc[:, ['Year']]"
   ]
  },
  {
   "cell_type": "code",
   "execution_count": 43,
   "metadata": {},
   "outputs": [
    {
     "name": "stdout",
     "output_type": "stream",
     "text": [
      "   Year\n",
      "0  2015\n",
      "1  2015\n",
      "2  2015\n",
      "3  2015\n",
      "4  2015\n"
     ]
    }
   ],
   "source": [
    "print(subset.head())"
   ]
  },
  {
   "cell_type": "code",
   "execution_count": 44,
   "metadata": {},
   "outputs": [
    {
     "ename": "TypeError",
     "evalue": "'method' object is not subscriptable",
     "output_type": "error",
     "traceback": [
      "\u001b[1;31m---------------------------------------------------------------------------\u001b[0m",
      "\u001b[1;31mTypeError\u001b[0m                                 Traceback (most recent call last)",
      "\u001b[1;32m<ipython-input-44-3744814e2746>\u001b[0m in \u001b[0;36m<module>\u001b[1;34m\u001b[0m\n\u001b[1;32m----> 1\u001b[1;33m \u001b[0mprint\u001b[0m\u001b[1;33m(\u001b[0m\u001b[0msubset\u001b[0m\u001b[1;33m.\u001b[0m\u001b[0mtail\u001b[0m\u001b[1;33m[\u001b[0m\u001b[1;36m0\u001b[0m\u001b[1;33m,\u001b[0m \u001b[1;36m99\u001b[0m\u001b[1;33m,\u001b[0m \u001b[1;36m999\u001b[0m\u001b[1;33m]\u001b[0m\u001b[1;33m)\u001b[0m\u001b[1;33m\u001b[0m\u001b[1;33m\u001b[0m\u001b[0m\n\u001b[0m",
      "\u001b[1;31mTypeError\u001b[0m: 'method' object is not subscriptable"
     ]
    }
   ],
   "source": [
    "print(subset.tail[0, 99, 999])"
   ]
  },
  {
   "cell_type": "code",
   "execution_count": 45,
   "metadata": {},
   "outputs": [
    {
     "ename": "TypeError",
     "evalue": "'DataFrame' object is not callable",
     "output_type": "error",
     "traceback": [
      "\u001b[1;31m---------------------------------------------------------------------------\u001b[0m",
      "\u001b[1;31mTypeError\u001b[0m                                 Traceback (most recent call last)",
      "\u001b[1;32m<ipython-input-45-dac888ff9a16>\u001b[0m in \u001b[0;36m<module>\u001b[1;34m\u001b[0m\n\u001b[1;32m----> 1\u001b[1;33m \u001b[0mprint\u001b[0m\u001b[1;33m(\u001b[0m\u001b[0msubset\u001b[0m\u001b[1;33m(\u001b[0m\u001b[1;36m0\u001b[0m\u001b[1;33m,\u001b[0m \u001b[1;36m99\u001b[0m\u001b[1;33m,\u001b[0m \u001b[1;36m999\u001b[0m\u001b[1;33m)\u001b[0m\u001b[1;33m)\u001b[0m\u001b[1;33m\u001b[0m\u001b[1;33m\u001b[0m\u001b[0m\n\u001b[0m",
      "\u001b[1;31mTypeError\u001b[0m: 'DataFrame' object is not callable"
     ]
    }
   ],
   "source": [
    "print(subset(0, 99, 999))"
   ]
  },
  {
   "cell_type": "code",
   "execution_count": 46,
   "metadata": {},
   "outputs": [
    {
     "name": "stdout",
     "output_type": "stream",
     "text": [
      "   Year\n",
      "0  2015\n",
      "1  2015\n",
      "2  2015\n",
      "3  2015\n",
      "4  2015\n"
     ]
    }
   ],
   "source": [
    "print(subset.head())"
   ]
  },
  {
   "cell_type": "code",
   "execution_count": 47,
   "metadata": {},
   "outputs": [
    {
     "name": "stdout",
     "output_type": "stream",
     "text": [
      "       Year\n",
      "71722  2020\n",
      "71723  2020\n",
      "71724  2020\n",
      "71725  2020\n",
      "71726  2020\n"
     ]
    }
   ],
   "source": [
    "print(subset.tail())"
   ]
  },
  {
   "cell_type": "code",
   "execution_count": 48,
   "metadata": {},
   "outputs": [],
   "source": [
    "subset = df.loc[:, ['Year' , 'Date']]"
   ]
  },
  {
   "cell_type": "code",
   "execution_count": 49,
   "metadata": {},
   "outputs": [
    {
     "data": {
      "text/html": [
       "<div>\n",
       "<style scoped>\n",
       "    .dataframe tbody tr th:only-of-type {\n",
       "        vertical-align: middle;\n",
       "    }\n",
       "\n",
       "    .dataframe tbody tr th {\n",
       "        vertical-align: top;\n",
       "    }\n",
       "\n",
       "    .dataframe thead th {\n",
       "        text-align: right;\n",
       "    }\n",
       "</style>\n",
       "<table border=\"1\" class=\"dataframe\">\n",
       "  <thead>\n",
       "    <tr style=\"text-align: right;\">\n",
       "      <th></th>\n",
       "      <th>Year</th>\n",
       "      <th>Date</th>\n",
       "    </tr>\n",
       "  </thead>\n",
       "  <tbody>\n",
       "    <tr>\n",
       "      <th>0</th>\n",
       "      <td>2015</td>\n",
       "      <td>31/01/2015</td>\n",
       "    </tr>\n",
       "    <tr>\n",
       "      <th>1</th>\n",
       "      <td>2015</td>\n",
       "      <td>01/02/2015</td>\n",
       "    </tr>\n",
       "    <tr>\n",
       "      <th>2</th>\n",
       "      <td>2015</td>\n",
       "      <td>02/02/2015</td>\n",
       "    </tr>\n",
       "    <tr>\n",
       "      <th>3</th>\n",
       "      <td>2015</td>\n",
       "      <td>03/02/2015</td>\n",
       "    </tr>\n",
       "    <tr>\n",
       "      <th>4</th>\n",
       "      <td>2015</td>\n",
       "      <td>04/02/2015</td>\n",
       "    </tr>\n",
       "  </tbody>\n",
       "</table>\n",
       "</div>"
      ],
      "text/plain": [
       "   Year        Date\n",
       "0  2015  31/01/2015\n",
       "1  2015  01/02/2015\n",
       "2  2015  02/02/2015\n",
       "3  2015  03/02/2015\n",
       "4  2015  04/02/2015"
      ]
     },
     "execution_count": 49,
     "metadata": {},
     "output_type": "execute_result"
    }
   ],
   "source": [
    "subset.head()"
   ]
  },
  {
   "cell_type": "code",
   "execution_count": 50,
   "metadata": {},
   "outputs": [
    {
     "data": {
      "text/html": [
       "<div>\n",
       "<style scoped>\n",
       "    .dataframe tbody tr th:only-of-type {\n",
       "        vertical-align: middle;\n",
       "    }\n",
       "\n",
       "    .dataframe tbody tr th {\n",
       "        vertical-align: top;\n",
       "    }\n",
       "\n",
       "    .dataframe thead th {\n",
       "        text-align: right;\n",
       "    }\n",
       "</style>\n",
       "<table border=\"1\" class=\"dataframe\">\n",
       "  <thead>\n",
       "    <tr style=\"text-align: right;\">\n",
       "      <th></th>\n",
       "      <th>Year</th>\n",
       "      <th>Date</th>\n",
       "    </tr>\n",
       "  </thead>\n",
       "  <tbody>\n",
       "    <tr>\n",
       "      <th>71722</th>\n",
       "      <td>2020</td>\n",
       "      <td>21/11/2020</td>\n",
       "    </tr>\n",
       "    <tr>\n",
       "      <th>71723</th>\n",
       "      <td>2020</td>\n",
       "      <td>22/11/2020</td>\n",
       "    </tr>\n",
       "    <tr>\n",
       "      <th>71724</th>\n",
       "      <td>2020</td>\n",
       "      <td>23/11/2020</td>\n",
       "    </tr>\n",
       "    <tr>\n",
       "      <th>71725</th>\n",
       "      <td>2020</td>\n",
       "      <td>24/11/2020</td>\n",
       "    </tr>\n",
       "    <tr>\n",
       "      <th>71726</th>\n",
       "      <td>2020</td>\n",
       "      <td>25/11/2020</td>\n",
       "    </tr>\n",
       "  </tbody>\n",
       "</table>\n",
       "</div>"
      ],
      "text/plain": [
       "       Year        Date\n",
       "71722  2020  21/11/2020\n",
       "71723  2020  22/11/2020\n",
       "71724  2020  23/11/2020\n",
       "71725  2020  24/11/2020\n",
       "71726  2020  25/11/2020"
      ]
     },
     "execution_count": 50,
     "metadata": {},
     "output_type": "execute_result"
    }
   ],
   "source": [
    "subset.tail()"
   ]
  },
  {
   "cell_type": "code",
   "execution_count": 52,
   "metadata": {},
   "outputs": [],
   "source": [
    "subset = df.iloc[:, [2, 4, -1]]"
   ]
  },
  {
   "cell_type": "code",
   "execution_count": 53,
   "metadata": {},
   "outputs": [
    {
     "data": {
      "text/html": [
       "<div>\n",
       "<style scoped>\n",
       "    .dataframe tbody tr th:only-of-type {\n",
       "        vertical-align: middle;\n",
       "    }\n",
       "\n",
       "    .dataframe tbody tr th {\n",
       "        vertical-align: top;\n",
       "    }\n",
       "\n",
       "    .dataframe thead th {\n",
       "        text-align: right;\n",
       "    }\n",
       "</style>\n",
       "<table border=\"1\" class=\"dataframe\">\n",
       "  <thead>\n",
       "    <tr style=\"text-align: right;\">\n",
       "      <th></th>\n",
       "      <th>Date</th>\n",
       "      <th>Current_Match</th>\n",
       "      <th>Cumulative</th>\n",
       "    </tr>\n",
       "  </thead>\n",
       "  <tbody>\n",
       "    <tr>\n",
       "      <th>0</th>\n",
       "      <td>31/01/2015</td>\n",
       "      <td>01/02/2020</td>\n",
       "      <td>257000000</td>\n",
       "    </tr>\n",
       "    <tr>\n",
       "      <th>1</th>\n",
       "      <td>01/02/2015</td>\n",
       "      <td>02/02/2020</td>\n",
       "      <td>380000000</td>\n",
       "    </tr>\n",
       "    <tr>\n",
       "      <th>2</th>\n",
       "      <td>02/02/2015</td>\n",
       "      <td>03/02/2020</td>\n",
       "      <td>556000000</td>\n",
       "    </tr>\n",
       "    <tr>\n",
       "      <th>3</th>\n",
       "      <td>03/02/2015</td>\n",
       "      <td>04/02/2020</td>\n",
       "      <td>671000000</td>\n",
       "    </tr>\n",
       "    <tr>\n",
       "      <th>4</th>\n",
       "      <td>04/02/2015</td>\n",
       "      <td>05/02/2020</td>\n",
       "      <td>746000000</td>\n",
       "    </tr>\n",
       "  </tbody>\n",
       "</table>\n",
       "</div>"
      ],
      "text/plain": [
       "         Date Current_Match  Cumulative\n",
       "0  31/01/2015    01/02/2020   257000000\n",
       "1  01/02/2015    02/02/2020   380000000\n",
       "2  02/02/2015    03/02/2020   556000000\n",
       "3  03/02/2015    04/02/2020   671000000\n",
       "4  04/02/2015    05/02/2020   746000000"
      ]
     },
     "execution_count": 53,
     "metadata": {},
     "output_type": "execute_result"
    }
   ],
   "source": [
    "subset.head()"
   ]
  },
  {
   "cell_type": "code",
   "execution_count": 54,
   "metadata": {},
   "outputs": [
    {
     "data": {
      "text/html": [
       "<div>\n",
       "<style scoped>\n",
       "    .dataframe tbody tr th:only-of-type {\n",
       "        vertical-align: middle;\n",
       "    }\n",
       "\n",
       "    .dataframe tbody tr th {\n",
       "        vertical-align: top;\n",
       "    }\n",
       "\n",
       "    .dataframe thead th {\n",
       "        text-align: right;\n",
       "    }\n",
       "</style>\n",
       "<table border=\"1\" class=\"dataframe\">\n",
       "  <thead>\n",
       "    <tr style=\"text-align: right;\">\n",
       "      <th></th>\n",
       "      <th>Date</th>\n",
       "      <th>Current_Match</th>\n",
       "      <th>Cumulative</th>\n",
       "    </tr>\n",
       "  </thead>\n",
       "  <tbody>\n",
       "    <tr>\n",
       "      <th>71722</th>\n",
       "      <td>21/11/2020</td>\n",
       "      <td>21/11/2020</td>\n",
       "      <td>167000000</td>\n",
       "    </tr>\n",
       "    <tr>\n",
       "      <th>71723</th>\n",
       "      <td>22/11/2020</td>\n",
       "      <td>22/11/2020</td>\n",
       "      <td>167000000</td>\n",
       "    </tr>\n",
       "    <tr>\n",
       "      <th>71724</th>\n",
       "      <td>23/11/2020</td>\n",
       "      <td>23/11/2020</td>\n",
       "      <td>168000000</td>\n",
       "    </tr>\n",
       "    <tr>\n",
       "      <th>71725</th>\n",
       "      <td>24/11/2020</td>\n",
       "      <td>24/11/2020</td>\n",
       "      <td>170000000</td>\n",
       "    </tr>\n",
       "    <tr>\n",
       "      <th>71726</th>\n",
       "      <td>25/11/2020</td>\n",
       "      <td>25/11/2020</td>\n",
       "      <td>171000000</td>\n",
       "    </tr>\n",
       "  </tbody>\n",
       "</table>\n",
       "</div>"
      ],
      "text/plain": [
       "             Date Current_Match  Cumulative\n",
       "71722  21/11/2020    21/11/2020   167000000\n",
       "71723  22/11/2020    22/11/2020   167000000\n",
       "71724  23/11/2020    23/11/2020   168000000\n",
       "71725  24/11/2020    24/11/2020   170000000\n",
       "71726  25/11/2020    25/11/2020   171000000"
      ]
     },
     "execution_count": 54,
     "metadata": {},
     "output_type": "execute_result"
    }
   ],
   "source": [
    "subset.tail()"
   ]
  },
  {
   "cell_type": "code",
   "execution_count": null,
   "metadata": {},
   "outputs": [],
   "source": []
  }
 ],
 "metadata": {
  "kernelspec": {
   "display_name": "Python 3",
   "language": "python",
   "name": "python3"
  },
  "language_info": {
   "codemirror_mode": {
    "name": "ipython",
    "version": 3
   },
   "file_extension": ".py",
   "mimetype": "text/x-python",
   "name": "python",
   "nbconvert_exporter": "python",
   "pygments_lexer": "ipython3",
   "version": "3.8.5"
  }
 },
 "nbformat": 4,
 "nbformat_minor": 4
}
